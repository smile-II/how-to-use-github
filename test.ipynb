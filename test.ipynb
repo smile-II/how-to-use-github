{
 "cells": [
  {
   "cell_type": "code",
   "execution_count": 3,
   "metadata": {},
   "outputs": [
    {
     "name": "stdout",
     "output_type": "stream",
     "text": [
      "tensor([[0.1117, 0.8158, 0.2626, 0.4839, 0.6765],\n",
      "        [0.7539, 0.2627, 0.0428, 0.2080, 0.1180],\n",
      "        [0.1217, 0.7356, 0.7118, 0.7876, 0.4183],\n",
      "        [0.9014, 0.9969, 0.7565, 0.2239, 0.3023]])\n",
      "tensor([4, 3, 3, 2])\n",
      "tensor(1.5230)\n",
      "tensor([0.1117, 0.8158, 0.2626, 0.4839, 0.6765]) tensor(4)\n"
     ]
    }
   ],
   "source": [
    "import torch\n",
    "import torch.nn as nn\n",
    "#定义数据\n",
    "torch.manual_seed(100) #设置随机种子，以保证结果的可重复性。\n",
    "predict = torch.rand(4, 5)\n",
    "label = torch.tensor([4, 3, 3, 2])\n",
    "print(predict)\n",
    "print(label)\n",
    "\n",
    "#定义交叉熵损失函数\n",
    "criterion = nn.CrossEntropyLoss()\n",
    "\n",
    "#计算整体的损失值\n",
    "loss = criterion(predict, label)\n",
    "print(loss)#最后将这四个样本的损失值进行求平均，得到整体的损失值。\n",
    "\n",
    "#计算单个样本的损失值\n",
    "one_loss = criterion(predict[0].unsqueeze(0), label[0].unsqueeze(0)) #.unsqueeze(0)是转二维向量\n",
    "print(predict[0].unsqueeze(0), label[0].unsqueeze(0))\n"
   ]
  }
 ],
 "metadata": {
  "kernelspec": {
   "display_name": "sjl",
   "language": "python",
   "name": "python3"
  },
  "language_info": {
   "codemirror_mode": {
    "name": "ipython",
    "version": 3
   },
   "file_extension": ".py",
   "mimetype": "text/x-python",
   "name": "python",
   "nbconvert_exporter": "python",
   "pygments_lexer": "ipython3",
   "version": "3.9.16"
  }
 },
 "nbformat": 4,
 "nbformat_minor": 2
}
